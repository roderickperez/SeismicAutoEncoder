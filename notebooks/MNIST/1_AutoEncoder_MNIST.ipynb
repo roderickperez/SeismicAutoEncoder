{
 "cells": [
  {
   "cell_type": "markdown",
   "metadata": {},
   "source": [
    "# 1. AutoEncoder MNIST\n",
    "\n",
    "Reference: https://www.youtube.com/watch?v=CCipk_ZH49I"
   ]
  },
  {
   "cell_type": "markdown",
   "metadata": {},
   "source": [
    "## Input libraries"
   ]
  },
  {
   "cell_type": "code",
   "execution_count": 1,
   "metadata": {},
   "outputs": [],
   "source": [
    "import warnings\n",
    "warnings.filterwarnings('ignore')"
   ]
  },
  {
   "cell_type": "code",
   "execution_count": 2,
   "metadata": {},
   "outputs": [
    {
     "name": "stderr",
     "output_type": "stream",
     "text": [
      "2023-08-25 13:44:28.980523: I tensorflow/core/platform/cpu_feature_guard.cc:182] This TensorFlow binary is optimized to use available CPU instructions in performance-critical operations.\n",
      "To enable the following instructions: AVX2 FMA, in other operations, rebuild TensorFlow with the appropriate compiler flags.\n",
      "2023-08-25 13:44:29.534819: W tensorflow/compiler/tf2tensorrt/utils/py_utils.cc:38] TF-TRT Warning: Could not find TensorRT\n"
     ]
    }
   ],
   "source": [
    "# TensorFlow\n",
    "import tensorflow as tf"
   ]
  },
  {
   "cell_type": "code",
   "execution_count": 3,
   "metadata": {},
   "outputs": [],
   "source": [
    "# Keras\n",
    "from keras.datasets import mnist\n",
    "\n",
    "from keras.models import Model\n",
    "from keras.layers import Input, Dense"
   ]
  },
  {
   "cell_type": "code",
   "execution_count": 4,
   "metadata": {},
   "outputs": [],
   "source": [
    "# Other Libraries\n",
    "import numpy as np\n",
    "import matplotlib.pyplot as plt"
   ]
  },
  {
   "cell_type": "code",
   "execution_count": 5,
   "metadata": {},
   "outputs": [
    {
     "data": {
      "text/plain": [
       "(60000, 28, 28)"
      ]
     },
     "execution_count": 5,
     "metadata": {},
     "output_type": "execute_result"
    }
   ],
   "source": [
    "(X_train, _), (X_test, _) = mnist.load_data()\n",
    "X_train.shape"
   ]
  },
  {
   "cell_type": "code",
   "execution_count": 6,
   "metadata": {},
   "outputs": [
    {
     "data": {
      "text/plain": [
       "<matplotlib.image.AxesImage at 0x7f6494ea47f0>"
      ]
     },
     "execution_count": 6,
     "metadata": {},
     "output_type": "execute_result"
    },
    {
     "data": {
      "image/png": "[encoded data removed]",
      "text/plain": [
       "<Figure size 640x480 with 1 Axes>"
      ]
     },
     "metadata": {},
     "output_type": "display_data"
    }
   ],
   "source": [
    "# Visualize one image\n",
    "plt.imshow(X_train[0], cmap='gray')"
   ]
  },
  {
   "cell_type": "markdown",
   "metadata": {},
   "source": [
    "### Preprocess the data"
   ]
  },
  {
   "cell_type": "code",
   "execution_count": 7,
   "metadata": {},
   "outputs": [
    {
     "data": {
      "text/plain": [
       "28"
      ]
     },
     "execution_count": 7,
     "metadata": {},
     "output_type": "execute_result"
    }
   ],
   "source": [
    "X_train[0].shape[0]"
   ]
  },
  {
   "cell_type": "code",
   "execution_count": 8,
   "metadata": {},
   "outputs": [
    {
     "data": {
      "text/plain": [
       "60000"
      ]
     },
     "execution_count": 8,
     "metadata": {},
     "output_type": "execute_result"
    }
   ],
   "source": [
    "X_train.shape[0]"
   ]
  },
  {
   "cell_type": "code",
   "execution_count": 9,
   "metadata": {},
   "outputs": [
    {
     "data": {
      "text/plain": [
       "784"
      ]
     },
     "execution_count": 9,
     "metadata": {},
     "output_type": "execute_result"
    }
   ],
   "source": [
    "28*28"
   ]
  },
  {
   "cell_type": "code",
   "execution_count": 10,
   "metadata": {},
   "outputs": [
    {
     "data": {
      "text/plain": [
       "(60000, 28, 28)"
      ]
     },
     "execution_count": 10,
     "metadata": {},
     "output_type": "execute_result"
    }
   ],
   "source": [
    "X_train.shape"
   ]
  },
  {
   "cell_type": "code",
   "execution_count": 11,
   "metadata": {},
   "outputs": [
    {
     "data": {
      "text/plain": [
       "(10000, 28, 28)"
      ]
     },
     "execution_count": 11,
     "metadata": {},
     "output_type": "execute_result"
    }
   ],
   "source": [
    "X_test.shape"
   ]
  },
  {
   "cell_type": "markdown",
   "metadata": {},
   "source": [
    "x_train contains 60000 images of 28x28 pixels each. Now, we need to flatten the images into vectors of 28x28 = 784 pixels each. The result is that x_train will be a matrix of 6000 x 784 (28*28). We will repeat the same for x_test 10000 x 784 (28*28)."
   ]
  },
  {
   "cell_type": "code",
   "execution_count": 12,
   "metadata": {},
   "outputs": [
    {
     "data": {
      "text/plain": [
       "(60000, 784)"
      ]
     },
     "execution_count": 12,
     "metadata": {},
     "output_type": "execute_result"
    }
   ],
   "source": [
    "# Convert 2D image into 1D vector\n",
    "X_train = X_train.reshape(X_train.shape[0], X_train[0].shape[0]*X_train[0].shape[1])\n",
    "X_train.shape"
   ]
  },
  {
   "cell_type": "code",
   "execution_count": 13,
   "metadata": {},
   "outputs": [
    {
     "data": {
      "text/plain": [
       "(10000, 784)"
      ]
     },
     "execution_count": 13,
     "metadata": {},
     "output_type": "execute_result"
    }
   ],
   "source": [
    "X_test = X_test.reshape(X_test.shape[0], X_test[0].shape[0]*X_test[0].shape[1])\n",
    "X_test.shape"
   ]
  },
  {
   "cell_type": "markdown",
   "metadata": {},
   "source": [
    "Check the amplitude of the values in the x_train and x_test matrices. The values are between 0 and 255. We will normalize the values between 0 and 1 by dividing by 255."
   ]
  },
  {
   "cell_type": "code",
   "execution_count": 14,
   "metadata": {},
   "outputs": [
    {
     "data": {
      "text/plain": [
       "255"
      ]
     },
     "execution_count": 14,
     "metadata": {},
     "output_type": "execute_result"
    }
   ],
   "source": [
    "X_train.max()"
   ]
  },
  {
   "cell_type": "markdown",
   "metadata": {},
   "source": [
    "Normalize the data dividing the dataset by the max number, in this case 255."
   ]
  },
  {
   "cell_type": "code",
   "execution_count": 15,
   "metadata": {},
   "outputs": [],
   "source": [
    "X_train = X_train.astype('float32')/255\n",
    "X_test = X_test.astype('float32')/255"
   ]
  },
  {
   "cell_type": "markdown",
   "metadata": {},
   "source": [
    "Check if the values are between 0 and 1."
   ]
  },
  {
   "cell_type": "code",
   "execution_count": 16,
   "metadata": {},
   "outputs": [
    {
     "data": {
      "text/plain": [
       "1.0"
      ]
     },
     "execution_count": 16,
     "metadata": {},
     "output_type": "execute_result"
    }
   ],
   "source": [
    "X_train.max()"
   ]
  },
  {
   "cell_type": "markdown",
   "metadata": {},
   "source": [
    "## Model"
   ]
  },
  {
   "cell_type": "code",
   "execution_count": null,
   "metadata": {},
   "outputs": [
    {
     "ename": "",
     "evalue": "",
     "output_type": "error",
     "traceback": [
      "\u001b[1;31mThe Kernel crashed while executing code in the the current cell or a previous cell. Please review the code in the cell(s) to identify a possible cause of the failure. Click <a href='https://aka.ms/vscodeJupyterKernelCrash'>here</a> for more info. View Jupyter <a href='command:jupyter.viewOutput'>log</a> for further details."
     ]
    }
   ],
   "source": [
    "# Define Layers\n",
    "input_layer = Input(shape=(X_train.shape[1])) # 784 (28*28)\n",
    "latent_space = Dense(32, activation='relu', name = 'latent_space')(input_layer) # 32\n",
    "output_layer = Dense(X_train.shape[1], activation='sigmoid', name = 'output_layer')(latent_space) # 784 (28*28)"
   ]
  },
  {
   "cell_type": "code",
   "execution_count": null,
   "metadata": {},
   "outputs": [
    {
     "name": "stdout",
     "output_type": "stream",
     "text": [
      "Model: \"model\"\n",
      "_________________________________________________________________\n",
      " Layer (type)                Output Shape              Param #   \n",
      "=================================================================\n",
      " input_1 (InputLayer)        [(None, 784)]             0         \n",
      "                                                                 \n",
      " latent_space (Dense)        (None, 32)                25120     \n",
      "                                                                 \n",
      " output_layer (Dense)        (None, 784)               25872     \n",
      "                                                                 \n",
      "=================================================================\n",
      "Total params: 50992 (199.19 KB)\n",
      "Trainable params: 50992 (199.19 KB)\n",
      "Non-trainable params: 0 (0.00 Byte)\n",
      "_________________________________________________________________\n"
     ]
    }
   ],
   "source": [
    "# Connect Layers intop the Model\n",
    "autoencoder = Model(input_layer, output_layer)\n",
    "autoencoder.summary()"
   ]
  },
  {
   "cell_type": "code",
   "execution_count": null,
   "metadata": {},
   "outputs": [
    {
     "name": "stdout",
     "output_type": "stream",
     "text": [
      "Model: \"model_1\"\n",
      "_________________________________________________________________\n",
      " Layer (type)                Output Shape              Param #   \n",
      "=================================================================\n",
      " input_1 (InputLayer)        [(None, 784)]             0         \n",
      "                                                                 \n",
      " latent_space (Dense)        (None, 32)                25120     \n",
      "                                                                 \n",
      "=================================================================\n",
      "Total params: 25120 (98.12 KB)\n",
      "Trainable params: 25120 (98.12 KB)\n",
      "Non-trainable params: 0 (0.00 Byte)\n",
      "_________________________________________________________________\n"
     ]
    }
   ],
   "source": [
    "# Make a independent reference to the encoder part of the model\n",
    "encoder = Model(input_layer, latent_space)\n",
    "encoder.summary()"
   ]
  },
  {
   "cell_type": "code",
   "execution_count": null,
   "metadata": {},
   "outputs": [],
   "source": [
    "# Make a independent reference to the decoder part of the model\n",
    "encoded_layer = Input(shape=(32,), name='encoded_layer')\n",
    "decoder_layer = autoencoder.layers[-1]\n",
    "decoder = Model(encoded_layer, decoder_layer(encoded_layer))"
   ]
  },
  {
   "cell_type": "code",
   "execution_count": null,
   "metadata": {},
   "outputs": [],
   "source": [
    "# Compile the model using MSE loss and Adam Optimizer\n",
    "autoencoder.compile(loss='mse', optimizer='adam')"
   ]
  },
  {
   "cell_type": "code",
   "execution_count": null,
   "metadata": {},
   "outputs": [
    {
     "name": "stdout",
     "output_type": "stream",
     "text": [
      "Epoch 1/50\n"
     ]
    },
    {
     "name": "stderr",
     "output_type": "stream",
     "text": [
      "2023-08-25 11:31:33.766023: I tensorflow/compiler/xla/stream_executor/cuda/cuda_blas.cc:606] TensorFloat-32 will be used for the matrix multiplication. This will only be logged once.\n",
      "2023-08-25 11:31:33.784320: I tensorflow/compiler/xla/service/service.cc:168] XLA service 0x45617a0 initialized for platform CUDA (this does not guarantee that XLA will be used). Devices:\n",
      "2023-08-25 11:31:33.784348: I tensorflow/compiler/xla/service/service.cc:176]   StreamExecutor device (0): NVIDIA RTX A5000, Compute Capability 8.6\n",
      "2023-08-25 11:31:33.790435: I tensorflow/compiler/mlir/tensorflow/utils/dump_mlir_util.cc:255] disabling MLIR crash reproducer, set env var `MLIR_CRASH_REPRODUCER_DIRECTORY` to enable.\n",
      "2023-08-25 11:31:33.807999: I tensorflow/compiler/xla/stream_executor/cuda/cuda_dnn.cc:432] Loaded cuDNN version 8600\n",
      "2023-08-25 11:31:33.927797: I ./tensorflow/compiler/jit/device_compiler.h:186] Compiled cluster using XLA!  This line is logged at most once for the lifetime of the process.\n"
     ]
    },
    {
     "name": "stdout",
     "output_type": "stream",
     "text": [
      "469/469 [==============================] - 2s 2ms/step - loss: 0.0539\n",
      "Epoch 2/50\n",
      "469/469 [==============================] - 1s 2ms/step - loss: 0.0258\n",
      "Epoch 3/50\n",
      "469/469 [==============================] - 1s 2ms/step - loss: 0.0184\n",
      "Epoch 4/50\n",
      "469/469 [==============================] - 1s 2ms/step - loss: 0.0148\n",
      "Epoch 5/50\n",
      "469/469 [==============================] - 1s 2ms/step - loss: 0.0128\n",
      "Epoch 6/50\n",
      "469/469 [==============================] - 1s 2ms/step - loss: 0.0117\n",
      "Epoch 7/50\n",
      "469/469 [==============================] - 1s 2ms/step - loss: 0.0112\n",
      "Epoch 8/50\n",
      "469/469 [==============================] - 1s 2ms/step - loss: 0.0109\n",
      "Epoch 9/50\n",
      "469/469 [==============================] - 1s 2ms/step - loss: 0.0107\n",
      "Epoch 10/50\n",
      "469/469 [==============================] - 1s 2ms/step - loss: 0.0106\n",
      "Epoch 11/50\n",
      "469/469 [==============================] - 1s 2ms/step - loss: 0.0105\n",
      "Epoch 12/50\n",
      "469/469 [==============================] - 1s 2ms/step - loss: 0.0105\n",
      "Epoch 13/50\n",
      "469/469 [==============================] - 1s 2ms/step - loss: 0.0104\n",
      "Epoch 14/50\n",
      "469/469 [==============================] - 1s 2ms/step - loss: 0.0104\n",
      "Epoch 15/50\n",
      "469/469 [==============================] - 1s 2ms/step - loss: 0.0104\n",
      "Epoch 16/50\n",
      "469/469 [==============================] - 1s 2ms/step - loss: 0.0103\n",
      "Epoch 17/50\n",
      "469/469 [==============================] - 1s 2ms/step - loss: 0.0103\n",
      "Epoch 18/50\n",
      "469/469 [==============================] - 1s 2ms/step - loss: 0.0103\n",
      "Epoch 19/50\n",
      "469/469 [==============================] - 1s 2ms/step - loss: 0.0102\n",
      "Epoch 20/50\n",
      "469/469 [==============================] - 1s 2ms/step - loss: 0.0102\n",
      "Epoch 21/50\n",
      "469/469 [==============================] - 1s 2ms/step - loss: 0.0102\n",
      "Epoch 22/50\n",
      "469/469 [==============================] - 1s 2ms/step - loss: 0.0102\n",
      "Epoch 23/50\n",
      "469/469 [==============================] - 1s 2ms/step - loss: 0.0102\n",
      "Epoch 24/50\n",
      "469/469 [==============================] - 1s 2ms/step - loss: 0.0102\n",
      "Epoch 25/50\n",
      "469/469 [==============================] - 1s 2ms/step - loss: 0.0101\n",
      "Epoch 26/50\n",
      "469/469 [==============================] - 1s 2ms/step - loss: 0.0101\n",
      "Epoch 27/50\n",
      "469/469 [==============================] - 1s 2ms/step - loss: 0.0101\n",
      "Epoch 28/50\n",
      "469/469 [==============================] - 1s 2ms/step - loss: 0.0101\n",
      "Epoch 29/50\n",
      "469/469 [==============================] - 1s 2ms/step - loss: 0.0101\n",
      "Epoch 30/50\n",
      "469/469 [==============================] - 1s 2ms/step - loss: 0.0101\n",
      "Epoch 31/50\n",
      "469/469 [==============================] - 1s 2ms/step - loss: 0.0101\n",
      "Epoch 32/50\n",
      "469/469 [==============================] - 1s 2ms/step - loss: 0.0100\n",
      "Epoch 33/50\n",
      "469/469 [==============================] - 1s 2ms/step - loss: 0.0100\n",
      "Epoch 34/50\n",
      "469/469 [==============================] - 1s 2ms/step - loss: 0.0100\n",
      "Epoch 35/50\n",
      "469/469 [==============================] - 1s 2ms/step - loss: 0.0100\n",
      "Epoch 36/50\n",
      "469/469 [==============================] - 1s 2ms/step - loss: 0.0100\n",
      "Epoch 37/50\n",
      "469/469 [==============================] - 1s 2ms/step - loss: 0.0100\n",
      "Epoch 38/50\n",
      "469/469 [==============================] - 1s 2ms/step - loss: 0.0100\n",
      "Epoch 39/50\n",
      "469/469 [==============================] - 1s 2ms/step - loss: 0.0100\n",
      "Epoch 40/50\n",
      "469/469 [==============================] - 1s 2ms/step - loss: 0.0100\n",
      "Epoch 41/50\n",
      "469/469 [==============================] - 1s 2ms/step - loss: 0.0099\n",
      "Epoch 42/50\n",
      "469/469 [==============================] - 1s 2ms/step - loss: 0.0099\n",
      "Epoch 43/50\n",
      "469/469 [==============================] - 1s 2ms/step - loss: 0.0099\n",
      "Epoch 44/50\n",
      "469/469 [==============================] - 1s 2ms/step - loss: 0.0099\n",
      "Epoch 45/50\n",
      "469/469 [==============================] - 1s 2ms/step - loss: 0.0099\n",
      "Epoch 46/50\n",
      "469/469 [==============================] - 1s 2ms/step - loss: 0.0099\n",
      "Epoch 47/50\n",
      "469/469 [==============================] - 1s 2ms/step - loss: 0.0099\n",
      "Epoch 48/50\n",
      "469/469 [==============================] - 1s 2ms/step - loss: 0.0099\n",
      "Epoch 49/50\n",
      "469/469 [==============================] - 1s 2ms/step - loss: 0.0099\n",
      "Epoch 50/50\n",
      "469/469 [==============================] - 1s 2ms/step - loss: 0.0099\n"
     ]
    }
   ],
   "source": [
    "# Fit training data to the model\n",
    "history = autoencoder.fit(X_train, X_train, epochs=50, batch_size=128)"
   ]
  },
  {
   "cell_type": "code",
   "execution_count": null,
   "metadata": {},
   "outputs": [
    {
     "data": {
      "text/plain": [
       "[<matplotlib.lines.Line2D at 0x7f18103e87f0>]"
      ]
     },
     "execution_count": 23,
     "metadata": {},
     "output_type": "execute_result"
    },
    {
     "data": {
      "image/png": "[encoded data removed]",
      "text/plain": [
       "<Figure size 640x480 with 1 Axes>"
      ]
     },
     "metadata": {},
     "output_type": "display_data"
    }
   ],
   "source": [
    "# Plot the training loss\n",
    "plt.plot(history.history['loss'])"
   ]
  },
  {
   "cell_type": "code",
   "execution_count": null,
   "metadata": {},
   "outputs": [],
   "source": [
    "# Plot the test loss\n",
    "plt.plot(history.history['val_loss'])"
   ]
  },
  {
   "cell_type": "code",
   "execution_count": null,
   "metadata": {},
   "outputs": [
    {
     "name": "stdout",
     "output_type": "stream",
     "text": [
      "20/20 [==============================] - 0s 752us/step\n"
     ]
    },
    {
     "data": {
      "text/plain": [
       "(10000, 32)"
      ]
     },
     "execution_count": 24,
     "metadata": {},
     "output_type": "execute_result"
    }
   ],
   "source": [
    "# Reconstruction \n",
    "encoded_data = encoder.predict(X_test, batch_size=512)\n",
    "encoded_data.shape"
   ]
  },
  {
   "cell_type": "code",
   "execution_count": null,
   "metadata": {},
   "outputs": [
    {
     "name": "stdout",
     "output_type": "stream",
     "text": [
      " 1/20 [>.............................] - ETA: 0s"
     ]
    },
    {
     "name": "stdout",
     "output_type": "stream",
     "text": [
      "20/20 [==============================] - 0s 473us/step\n"
     ]
    },
    {
     "data": {
      "text/plain": [
       "(10000, 784)"
      ]
     },
     "execution_count": 26,
     "metadata": {},
     "output_type": "execute_result"
    }
   ],
   "source": [
    "# Reconstruct Output\n",
    "output_data = decoder.predict(encoded_data,  batch_size=512)\n",
    "output_data.shape"
   ]
  },
  {
   "cell_type": "code",
   "execution_count": null,
   "metadata": {},
   "outputs": [
    {
     "data": {
      "text/plain": [
       "(10000, 28, 28)"
      ]
     },
     "execution_count": 29,
     "metadata": {},
     "output_type": "execute_result"
    }
   ],
   "source": [
    "# Re-shape the test data\n",
    "X_test = X_test.reshape(X_test.shape[0], 28, 28)\n",
    "X_test.shape"
   ]
  },
  {
   "cell_type": "code",
   "execution_count": null,
   "metadata": {},
   "outputs": [
    {
     "data": {
      "text/plain": [
       "(10000, 28, 28)"
      ]
     },
     "execution_count": 27,
     "metadata": {},
     "output_type": "execute_result"
    }
   ],
   "source": [
    "# Re-shape the output data into a 28 x 28 pixel image\n",
    "output_data = output_data.reshape(output_data.shape[0], 28, 28)\n",
    "output_data.shape"
   ]
  },
  {
   "cell_type": "code",
   "execution_count": null,
   "metadata": {},
   "outputs": [
    {
     "data": {
      "text/plain": [
       "<matplotlib.image.AxesImage at 0x7f1810322f70>"
      ]
     },
     "execution_count": 28,
     "metadata": {},
     "output_type": "execute_result"
    },
    {
     "data": {
      "image/png": "[encoded data removed]",
      "text/plain": [
       "<Figure size 640x480 with 1 Axes>"
      ]
     },
     "metadata": {},
     "output_type": "display_data"
    }
   ],
   "source": [
    "plt.imshow(output_data[0], cmap='gray')"
   ]
  },
  {
   "cell_type": "code",
   "execution_count": null,
   "metadata": {},
   "outputs": [
    {
     "data": {
      "text/plain": [
       "<matplotlib.image.AxesImage at 0x7f181030b970>"
      ]
     },
     "execution_count": 30,
     "metadata": {},
     "output_type": "execute_result"
    },
    {
     "data": {
      "image/png": "[encoded data removed]",
      "text/plain": [
       "<Figure size 640x480 with 1 Axes>"
      ]
     },
     "metadata": {},
     "output_type": "display_data"
    }
   ],
   "source": [
    "# Show test image\n",
    "plt.imshow(X_test[0], cmap='gray')"
   ]
  },
  {
   "cell_type": "code",
   "execution_count": null,
   "metadata": {},
   "outputs": [
    {
     "data": {
      "image/png": "[encoded data removed]",
      "text/plain": [
       "<Figure size 1500x1500 with 3 Axes>"
      ]
     },
     "metadata": {},
     "output_type": "display_data"
    }
   ],
   "source": [
    "# Create a 1 row 3 column grid plot, where the 1st image is the test, 2nd is the output and 3rd is the difference between the two\n",
    "fig, axes = plt.subplots(1, 3, figsize=(15, 15))\n",
    "axes[0].imshow(X_test[0], cmap='gray')\n",
    "axes[1].imshow(output_data[0], cmap='gray')\n",
    "axes[2].imshow(X_test[0] - output_data[0], cmap='gray')\n",
    "plt.show()"
   ]
  },
  {
   "cell_type": "code",
   "execution_count": null,
   "metadata": {},
   "outputs": [],
   "source": []
  }
 ],
 "metadata": {
  "kernelspec": {
   "display_name": "seismicDenoisingAutoEncoder",
   "language": "python",
   "name": "python3"
  },
  "language_info": {
   "codemirror_mode": {
    "name": "ipython",
    "version": 3
   },
   "file_extension": ".py",
   "mimetype": "text/x-python",
   "name": "python",
   "nbconvert_exporter": "python",
   "pygments_lexer": "ipython3",
   "version": "3.9.17"
  },
  "orig_nbformat": 4
 },
 "nbformat": 4,
 "nbformat_minor": 2
}
